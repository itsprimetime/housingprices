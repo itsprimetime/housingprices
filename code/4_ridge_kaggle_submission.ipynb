{
 "cells": [
  {
   "cell_type": "markdown",
   "metadata": {},
   "source": [
    "# Kaggle Submission"
   ]
  },
  {
   "cell_type": "code",
   "execution_count": 1,
   "metadata": {},
   "outputs": [],
   "source": [
    "import pandas as pd\n",
    "import numpy as np\n",
    "import seaborn as sns\n",
    "import matplotlib.pyplot as plt \n",
    "import pickle\n",
    "import csv\n",
    "%matplotlib inline\n",
    "\n",
    "import statsmodels.api as sm\n",
    "from sklearn.linear_model import LinearRegression\n",
    "from sklearn.model_selection import train_test_split, KFold, cross_val_score\n",
    "from sklearn.preprocessing import StandardScaler\n",
    "from sklearn.linear_model import LinearRegression, LassoCV, RidgeCV\n",
    "from sklearn.linear_model import Ridge\n",
    "\n",
    "np.random.seed(42)\n"
   ]
  },
  {
   "cell_type": "markdown",
   "metadata": {},
   "source": [
    "## Load in Trained Model and Scaler"
   ]
  },
  {
   "cell_type": "code",
   "execution_count": 2,
   "metadata": {},
   "outputs": [],
   "source": [
    "# use pickle.load to load in these assets\n",
    "\n",
    "with open('../assets/ridge.pkl', 'rb') as f:\n",
    "    ridge = pickle.load(f)\n",
    "with open('../assets/scaler.pkl', 'rb') as f:\n",
    "    ss = pickle.load(f)"
   ]
  },
  {
   "cell_type": "code",
   "execution_count": 3,
   "metadata": {},
   "outputs": [
    {
     "data": {
      "text/plain": [
       "RidgeCV(alphas=array([ 0.1,  0.2, ...,  9.9, 10. ]), cv=None,\n",
       "    fit_intercept=True, gcv_mode=None, normalize=False, scoring=None,\n",
       "    store_cv_values=False)"
      ]
     },
     "execution_count": 3,
     "metadata": {},
     "output_type": "execute_result"
    }
   ],
   "source": [
    "ridge"
   ]
  },
  {
   "cell_type": "markdown",
   "metadata": {},
   "source": [
    "## Load Test Data as df"
   ]
  },
  {
   "cell_type": "code",
   "execution_count": 81,
   "metadata": {},
   "outputs": [],
   "source": [
    "# read in our test.csv as `kaggle`\n",
    "df = pd.read_csv('../datasets/test.csv', index_col='Id')"
   ]
  },
  {
   "cell_type": "code",
   "execution_count": null,
   "metadata": {},
   "outputs": [],
   "source": [
    "df.shape"
   ]
  },
  {
   "cell_type": "markdown",
   "metadata": {},
   "source": [
    "## Clean data in same method as training data"
   ]
  },
  {
   "cell_type": "code",
   "execution_count": 5,
   "metadata": {},
   "outputs": [],
   "source": [
    "# we excluded objects, filled nulls with 0, and dropped `PID`\n",
    "with open('../assets/columns.pkl', 'rb') as f:\n",
    "    included = pickle.load(f)"
   ]
  },
  {
   "cell_type": "code",
   "execution_count": 6,
   "metadata": {},
   "outputs": [
    {
     "data": {
      "text/plain": [
       "(879, 79)"
      ]
     },
     "execution_count": 6,
     "metadata": {},
     "output_type": "execute_result"
    }
   ],
   "source": [
    "df.shape"
   ]
  },
  {
   "cell_type": "markdown",
   "metadata": {},
   "source": [
    "### Lowercase Columns and Replace Spaces with Underscores"
   ]
  },
  {
   "cell_type": "code",
   "execution_count": 50,
   "metadata": {},
   "outputs": [],
   "source": [
    "# df.columns = included"
   ]
  },
  {
   "cell_type": "code",
   "execution_count": 12,
   "metadata": {},
   "outputs": [],
   "source": [
    "df.columns = map(str.lower, df.columns)"
   ]
  },
  {
   "cell_type": "code",
   "execution_count": 13,
   "metadata": {},
   "outputs": [],
   "source": [
    "df.columns = df.columns.str.replace(' ', '_')"
   ]
  },
  {
   "cell_type": "code",
   "execution_count": 72,
   "metadata": {},
   "outputs": [],
   "source": [
    "df.rename(columns = {'saleprice':'SalePrice'}, inplace=True)"
   ]
  },
  {
   "cell_type": "code",
   "execution_count": 65,
   "metadata": {},
   "outputs": [
    {
     "data": {
      "text/plain": [
       "Index(['ms_subclass', 'ms_zoning', 'lot_frontage', 'lot_area', 'street',\n",
       "       'alley', 'lot_shape', 'land_contour', 'utilities', 'lot_config',\n",
       "       'land_slope', 'neighborhood', 'condition_1', 'condition_2', 'bldg_type',\n",
       "       'house_style', 'overall_qual', 'overall_cond', 'year_built',\n",
       "       'year_remod/add', 'roof_style', 'roof_matl', 'exterior_1st',\n",
       "       'exterior_2nd', 'mas_vnr_type', 'mas_vnr_area', 'exter_qual',\n",
       "       'exter_cond', 'foundation', 'bsmt_qual', 'bsmt_cond', 'bsmt_exposure',\n",
       "       'bsmtfin_type_1', 'bsmtfin_sf_1', 'bsmtfin_type_2', 'bsmtfin_sf_2',\n",
       "       'bsmt_unf_sf', 'total_bsmt_sf', 'heating', 'heating_qc', 'central_air',\n",
       "       'electrical', '1st_flr_sf', '2nd_flr_sf', 'low_qual_fin_sf',\n",
       "       'gr_liv_area', 'bsmt_full_bath', 'bsmt_half_bath', 'full_bath',\n",
       "       'half_bath', 'bedroom_abvgr', 'kitchen_abvgr', 'kitchen_qual',\n",
       "       'totrms_abvgrd', 'functional', 'fireplaces', 'fireplace_qu',\n",
       "       'garage_type', 'garage_finish', 'garage_cars', 'garage_area',\n",
       "       'garage_qual', 'garage_cond', 'paved_drive', 'wood_deck_sf',\n",
       "       'open_porch_sf', 'enclosed_porch', '3ssn_porch', 'screen_porch',\n",
       "       'pool_area', 'pool_qc', 'fence', 'misc_feature', 'misc_val', 'mo_sold',\n",
       "       'yr_sold', 'sale_type'],\n",
       "      dtype='object')"
      ]
     },
     "execution_count": 65,
     "metadata": {},
     "output_type": "execute_result"
    }
   ],
   "source": [
    "df.columns"
   ]
  },
  {
   "cell_type": "markdown",
   "metadata": {},
   "source": [
    "## Create a Dictionary for Null Values and Empty Values"
   ]
  },
  {
   "cell_type": "code",
   "execution_count": 16,
   "metadata": {},
   "outputs": [],
   "source": [
    "na_dict = {'alley':'None',\n",
    "'fireplace_qu':'None',\n",
    "'garage_cond':'None',\n",
    "'pool_qc':'None',\n",
    "'fence':'None',\n",
    "'misc_feature':'None',\n",
    "'lot_frontage':lambda x: .01*x['lot_area'],\n",
    "'mas_vnr_type':'None',\n",
    "'mas_vnr_area':0,\n",
    "'bsmt_qual':'None',\n",
    "'bsmt_cond':'None',\n",
    "'bsmt_exposure':'None',\n",
    "'bsmtfin_type_1':'None',\n",
    "'bsmtfin_sf_1':0,\n",
    "'bsmtfin_type_2':'None',\n",
    "'bsmtfin_sf_2':0,\n",
    "'bsmt_unf_sf':0,\n",
    "'total_bsmt_sf':0,\n",
    "'bsmt_full_bath':'None',\n",
    "'bsmt_half_bath':'None',\n",
    "'garage_type':'None',\n",
    "'garage_finish':'None',\n",
    "'garage_qual':'None',\n",
    "'garage_cars':0,\n",
    "'garage_area':0}"
   ]
  },
  {
   "cell_type": "code",
   "execution_count": 25,
   "metadata": {},
   "outputs": [],
   "source": [
    "df.drop(['garage_yr_blt'], axis=1, inplace=True)"
   ]
  },
  {
   "cell_type": "markdown",
   "metadata": {},
   "source": [
    "## Drop PID & Exclude Objects"
   ]
  },
  {
   "cell_type": "code",
   "execution_count": 26,
   "metadata": {},
   "outputs": [],
   "source": [
    "df.drop(['pid'], axis=1, inplace=True)"
   ]
  },
  {
   "cell_type": "code",
   "execution_count": null,
   "metadata": {},
   "outputs": [],
   "source": [
    "df = df.select_dtypes(exclude='object')"
   ]
  },
  {
   "cell_type": "code",
   "execution_count": 27,
   "metadata": {},
   "outputs": [],
   "source": [
    "df_dummies = pd.get_dummies(df)"
   ]
  },
  {
   "cell_type": "code",
   "execution_count": 80,
   "metadata": {},
   "outputs": [],
   "source": [
    "# set(included).difference(df.columns)  #Code to run"
   ]
  },
  {
   "cell_type": "code",
   "execution_count": 29,
   "metadata": {},
   "outputs": [
    {
     "data": {
      "text/plain": [
       "{'bsmt_full_bath_0.0',\n",
       " 'bsmt_full_bath_1.0',\n",
       " 'bsmt_half_bath_0.0',\n",
       " 'bsmt_half_bath_1.0',\n",
       " 'overall_cond_5',\n",
       " 'overall_cond_6',\n",
       " 'overall_cond_7',\n",
       " 'overall_qual_4',\n",
       " 'overall_qual_5',\n",
       " 'overall_qual_6',\n",
       " 'overall_qual_7',\n",
       " 'overall_qual_8'}"
      ]
     },
     "execution_count": 29,
     "metadata": {},
     "output_type": "execute_result"
    }
   ],
   "source": [
    "set(included).difference(df_dummies.columns)  #Code to run"
   ]
  },
  {
   "cell_type": "code",
   "execution_count": 52,
   "metadata": {},
   "outputs": [
    {
     "data": {
      "text/plain": [
       "functional_Min2         1\n",
       "totrms_abvgrd           1\n",
       "exterior_1st_AsbShng    1\n",
       "pool_qc_Ex              1\n",
       "lot_frontage            1\n",
       "bedroom_abvgr           1\n",
       "overall_qual_5          1\n",
       "roof_matl_WdShngl       1\n",
       "electrical_FuseA        1\n",
       "exterior_2nd_AsbShng    1\n",
       "exterior_2nd_CBlock     1\n",
       "overall_qual            1\n",
       "roof_style_Shed         1\n",
       "roof_matl_Roll          1\n",
       "pool_qc_None            1\n",
       "garage_qual_Fa          1\n",
       "neighborhood_MeadowV    1\n",
       "bsmt_exposure_Mn        1\n",
       "lot_area                1\n",
       "bsmtfin_type_1_Rec      1\n",
       "neighborhood_Edwards    1\n",
       "sale_type_ConLw         1\n",
       "street_Grvl             1\n",
       "exterior_1st_Plywood    1\n",
       "bsmt_full_bath          1\n",
       "bsmt_full_bath_1.0      1\n",
       "roof_style_Hip          1\n",
       "neighborhood_SawyerW    1\n",
       "neighborhood_Crawfor    1\n",
       "bsmt_qual_Fa            1\n",
       "                       ..\n",
       "garage_qual_Gd          1\n",
       "functional_Typ          1\n",
       "sale_type_ConLD         1\n",
       "kitchen_qual_Fa         1\n",
       "overall_cond_6          1\n",
       "garage_qual_Po          1\n",
       "exter_qual_Gd           1\n",
       "roof_style_Mansard      1\n",
       "bsmtfin_type_2_Rec      1\n",
       "alley_Grvl              1\n",
       "house_style_2Story      1\n",
       "neighborhood_NoRidge    1\n",
       "exterior_1st_VinylSd    1\n",
       "lot_shape_IR1           1\n",
       "garage_area             1\n",
       "bsmtfin_type_1_None     1\n",
       "fireplace_qu_TA         1\n",
       "sale_type_VWD           1\n",
       "lot_config_CulDSac      1\n",
       "exterior_2nd_CmentBd    1\n",
       "foundation_Wood         1\n",
       "heating_qc_Ex           1\n",
       "bsmt_qual_TA            1\n",
       "neighborhood_SWISU      1\n",
       "mas_vnr_area            1\n",
       "land_slope_Sev          1\n",
       "condition_2_PosN        1\n",
       "bldg_type_Twnhs         1\n",
       "central_air_N           1\n",
       "fence_None              1\n",
       "Length: 296, dtype: int64"
      ]
     },
     "execution_count": 52,
     "metadata": {},
     "output_type": "execute_result"
    }
   ],
   "source": [
    "df_dummies.columns.value_counts()"
   ]
  },
  {
   "cell_type": "markdown",
   "metadata": {},
   "source": [
    "## Assign values to missing columns df_dummies"
   ]
  },
  {
   "cell_type": "code",
   "execution_count": 30,
   "metadata": {},
   "outputs": [],
   "source": [
    "df_dummies['bsmt_full_bath_0.0']=0\n",
    "df_dummies['bsmt_full_bath_1.0']=0\n",
    "df_dummies['bsmt_half_bath_0.0']=0\n",
    "df_dummies['bsmt_half_bath_1.0']=0\n",
    "df_dummies['overall_cond_5']=0 \n",
    "df_dummies['overall_cond_6']=0\n",
    "df_dummies['overall_cond_7']=0\n",
    "df_dummies['overall_qual_4']=0\n",
    "df_dummies['overall_qual_5']=0\n",
    "df_dummies['overall_qual_6']=0\n",
    "df_dummies['overall_qual_7']=0\n",
    "df_dummies['overall_qual_8']=0"
   ]
  },
  {
   "cell_type": "code",
   "execution_count": 55,
   "metadata": {},
   "outputs": [
    {
     "data": {
      "text/plain": [
       "(134,)"
      ]
     },
     "execution_count": 55,
     "metadata": {},
     "output_type": "execute_result"
    }
   ],
   "source": [
    "(ss.mean_).shape"
   ]
  },
  {
   "cell_type": "code",
   "execution_count": 74,
   "metadata": {},
   "outputs": [],
   "source": [
    "# use our previously fit scaler to transform our kaggle data, save as `kaggle_sc`\n",
    "df_sc = ss.transform(df_dummies[included])"
   ]
  },
  {
   "cell_type": "markdown",
   "metadata": {},
   "source": [
    "## Make Predictions"
   ]
  },
  {
   "cell_type": "code",
   "execution_count": 75,
   "metadata": {},
   "outputs": [],
   "source": [
    "preds = ridge.predict(df_sc)"
   ]
  },
  {
   "cell_type": "markdown",
   "metadata": {},
   "source": [
    "## Align predictions back with index and set up header"
   ]
  },
  {
   "cell_type": "code",
   "execution_count": 76,
   "metadata": {},
   "outputs": [],
   "source": [
    "submission = pd.DataFrame(preds, index=df_dummies[included].index, columns=['SalePrice'])"
   ]
  },
  {
   "cell_type": "markdown",
   "metadata": {},
   "source": [
    "## Sort index (required for proper submission)"
   ]
  },
  {
   "cell_type": "code",
   "execution_count": 77,
   "metadata": {},
   "outputs": [],
   "source": [
    "submission.sort_index(inplace=True)"
   ]
  },
  {
   "cell_type": "markdown",
   "metadata": {},
   "source": [
    "## Save to csv to submit"
   ]
  },
  {
   "cell_type": "code",
   "execution_count": 78,
   "metadata": {},
   "outputs": [],
   "source": [
    "# use pandas .to_csv to save these predictions out as `../data/numeric_only_lr.csv`\n",
    "submission.to_csv('../datasets/dummies_ridge.csv')"
   ]
  },
  {
   "cell_type": "markdown",
   "metadata": {},
   "source": [
    "## Use command line `head` to check data is correct format"
   ]
  },
  {
   "cell_type": "code",
   "execution_count": 79,
   "metadata": {},
   "outputs": [
    {
     "name": "stdout",
     "output_type": "stream",
     "text": [
      "Id,SalePrice\n",
      "2,123245.74672502995\n",
      "4,286954.9299571526\n",
      "6,215626.9516779511\n",
      "7,202405.77793382164\n",
      "17,191871.05603488185\n",
      "18,336811.6383799143\n",
      "22,211094.024389459\n",
      "27,144982.26718989923\n",
      "31,123662.09559337833\n"
     ]
    }
   ],
   "source": [
    "!head ../datasets/dummies_ridge.csv"
   ]
  }
 ],
 "metadata": {
  "kernelspec": {
   "display_name": "Python 3",
   "language": "python",
   "name": "python3"
  },
  "language_info": {
   "codemirror_mode": {
    "name": "ipython",
    "version": 3
   },
   "file_extension": ".py",
   "mimetype": "text/x-python",
   "name": "python",
   "nbconvert_exporter": "python",
   "pygments_lexer": "ipython3",
   "version": "3.7.0"
  }
 },
 "nbformat": 4,
 "nbformat_minor": 2
}
